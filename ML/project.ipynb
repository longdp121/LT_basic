{
 "cells": [
  {
   "cell_type": "code",
   "execution_count": 92,
   "id": "ef083a77",
   "metadata": {},
   "outputs": [
    {
     "name": "stdout",
     "output_type": "stream",
     "text": [
      "  school sex  age address famsize Pstatus  Medu  Fedu     Mjob      Fjob  ...  \\\n",
      "0     GP   F   18       U     GT3       A     4     4  at_home   teacher  ...   \n",
      "1     GP   F   17       U     GT3       T     1     1  at_home     other  ...   \n",
      "2     GP   F   15       U     LE3       T     1     1  at_home     other  ...   \n",
      "3     GP   F   15       U     GT3       T     4     2   health  services  ...   \n",
      "4     GP   F   16       U     GT3       T     3     3    other     other  ...   \n",
      "\n",
      "  famrel freetime  goout  Dalc  Walc health absences  G1  G2  G3  \n",
      "0      4        3      4     1     1      3        6   5   6   6  \n",
      "1      5        3      3     1     1      3        4   5   5   6  \n",
      "2      4        3      2     2     3      3       10   7   8  10  \n",
      "3      3        2      2     1     1      5        2  15  14  15  \n",
      "4      4        3      2     1     2      5        4   6  10  10  \n",
      "\n",
      "[5 rows x 33 columns]\n"
     ]
    },
    {
     "name": "stderr",
     "output_type": "stream",
     "text": [
      "C:\\Users\\Acer\\AppData\\Local\\Temp/ipykernel_7648/2702068800.py:18: FutureWarning: In a future version of pandas all arguments of DataFrame.drop except for the argument 'labels' will be keyword-only\n",
      "  X = np.array(data.drop([predict], 1))  #Upper X for independent values\n"
     ]
    },
    {
     "data": {
      "image/png": "[encoded data removed]",
      "text/plain": [
       "<Figure size 432x288 with 1 Axes>"
      ]
     },
     "metadata": {},
     "output_type": "display_data"
    }
   ],
   "source": [
    "import pandas as pd\n",
    "import numpy as np\n",
    "import sklearn\n",
    "from sklearn import linear_model\n",
    "from sklearn.utils import shuffle\n",
    "import matplotlib.pyplot as plt\n",
    "import pickle\n",
    "from matplotlib import style\n",
    "\n",
    "#Import data\n",
    "data = pd.read_csv('dataset/student-mat.csv', sep = ';')\n",
    "print(data.head())\n",
    "data = data[['age', 'studytime', 'failures', 'absences', 'G1', 'G2', 'G3']]  #Take out needle collumns\n",
    "# print(data.head())\n",
    "predict = 'G3'\n",
    "\n",
    "#Split train and test data\n",
    "X = np.array(data.drop([predict], 1))  #Upper X for independent values\n",
    "y = np.array(data[predict])  #Lower y for dependent values\n",
    "\n",
    "x_train, x_test, y_train, y_test = sklearn.model_selection.train_test_split(X, y, test_size = 0.1)\n",
    "\n",
    "# best = 0\n",
    "# for i in range(100):\n",
    "#     x_train, x_test, y_train, y_test = sklearn.model_selection.train_test_split(X, y, test_size = 0.1)\n",
    "#     #Linear Regression\n",
    "#     linear = linear_model.LinearRegression()\n",
    "#     linear.fit(x_train, y_train)\n",
    "#     acc = linear.score(x_test, y_test)\n",
    "\n",
    "#     #print(acc)\n",
    "#     if acc > best:\n",
    "#         best = acc\n",
    "#         print(f'This is {acc}')\n",
    "#     #Save train model to a file\n",
    "#         with open('stu_model.pickle', 'wb') as model_file:\n",
    "#             pickle.dump(linear, model_file)\n",
    "\n",
    "#Load trained model from a file\n",
    "pickle_in = open('stu_model.pickle', 'rb')\n",
    "linear = pickle.load(pickle_in)\n",
    "\n",
    "# predictions = linear.predict(x_test)\n",
    "# print(len(predictions))\n",
    "# for x in range(len(predictions)):\n",
    "#     print(predictions[x], x_test[x], y_test[x])\n",
    "\n",
    "    \n",
    "p = 'G2'\n",
    "style.use('ggplot')\n",
    "plt.scatter(data[p], data[predict])\n",
    "plt.xlabel(p)\n",
    "plt.ylabel('Final score')\n",
    "plt.show()\n"
   ]
  }
 ],
 "metadata": {
  "kernelspec": {
   "display_name": "Python 3 (ipykernel)",
   "language": "python",
   "name": "python3"
  },
  "language_info": {
   "codemirror_mode": {
    "name": "ipython",
    "version": 3
   },
   "file_extension": ".py",
   "mimetype": "text/x-python",
   "name": "python",
   "nbconvert_exporter": "python",
   "pygments_lexer": "ipython3",
   "version": "3.9.7"
  }
 },
 "nbformat": 4,
 "nbformat_minor": 5
}
