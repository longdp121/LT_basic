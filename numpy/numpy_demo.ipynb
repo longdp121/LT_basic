{
 "cells": [
  {
   "cell_type": "code",
   "execution_count": 1,
   "id": "e81364db",
   "metadata": {},
   "outputs": [],
   "source": [
    "import numpy as np\n",
    "import cv2 as cv"
   ]
  },
  {
   "cell_type": "markdown",
   "id": "d6095659",
   "metadata": {},
   "source": [
    "# Basic"
   ]
  },
  {
   "cell_type": "code",
   "execution_count": null,
   "id": "79588880",
   "metadata": {},
   "outputs": [],
   "source": [
    "#a = np.array([[[1, 2, 3], [3, 2, 1]], [[4, 5, 6], [6, 5, 4]], [[7, 8, 9],[9, 8, 7]]])\n",
    "# print(a)\n",
    "# print(a.ndim)\n",
    "#np.array(([1], [2], [3]), dtype = 'float32')\n",
    "a1 = np.array([1, 2, 3, 4])\n",
    "a2 = np.array(([[1], [2], [3], [4, 5, 6]]), dtype = 'object')\n",
    "print(a1)\n",
    "print(f'a1.shape: {a1.shape}')  #Return (r, c)\n",
    "print(f'a1.ndim: {a1.ndim}')  #Return num of demention\n",
    "print()\n",
    "print('=====')\n",
    "print(a2)\n",
    "print(type(a2))\n",
    "print(f'a2.shape: {a2.shape}')  #Return (r, c)\n",
    "print(f'a2.ndim: {a2.ndim}')  #Return num of demention\n",
    "\n",
    "# a2 = np.array([[1, 2, 3],\n",
    "#               [4, 5, 6]])\n",
    "# print(type(a2))\n",
    "# print(a2.shape)  #Return (r, c)\n",
    "# print(a2.ndim)\n",
    "# a2.dtype\n",
    "# a2.size  #Total elemnts in matrix"
   ]
  },
  {
   "cell_type": "code",
   "execution_count": null,
   "id": "79da8ebf",
   "metadata": {},
   "outputs": [],
   "source": [
    "my_a = np.array([[[1,2 ,3],\n",
    "                 [4, 5, 6]],\n",
    "                 [[7, 8, 9],\n",
    "                 [10, 11, 12]],\n",
    "                 [[13, 14, 15],\n",
    "                 [16, 17, 18]]])\n",
    "print(my_a)\n",
    "print(type(my_a))\n",
    "print(\"Shape:\", my_a.shape)  #Return a tuple () with number of row and column\n",
    "print(\"Total dimetion:\", my_a.ndim)\n",
    "print(\"Size: \", my_a.size)\n",
    "\n",
    "# my_b = np.array([1, 2, 3])\n",
    "# print(my_b)\n",
    "# print(my_b.shape)\n",
    "# print(my_b.ndim)"
   ]
  },
  {
   "cell_type": "markdown",
   "id": "d1c36bec",
   "metadata": {},
   "source": [
    "# Creat numpay array"
   ]
  },
  {
   "cell_type": "code",
   "execution_count": null,
   "id": "c34d7316",
   "metadata": {},
   "outputs": [],
   "source": [
    "# Creat a numpy array fill with 0\n",
    "zero_arr = np.zeros([2, 4], dtype = int)\n",
    "print(zero_arr)"
   ]
  },
  {
   "cell_type": "code",
   "execution_count": null,
   "id": "83aed449",
   "metadata": {},
   "outputs": [],
   "source": [
    "#Creat a numpy array fill with 1\n",
    "np.ones((3, 5), dtype = int)\n",
    "#print(one_arr)"
   ]
  },
  {
   "cell_type": "code",
   "execution_count": null,
   "id": "ffbf0a45",
   "metadata": {},
   "outputs": [],
   "source": [
    "#Creat a numpy array fill with num from a range\n",
    "range_arr = np.arange(0, 18, 3)\n",
    "print(range_arr)"
   ]
  },
  {
   "cell_type": "code",
   "execution_count": null,
   "id": "d072e268",
   "metadata": {},
   "outputs": [],
   "source": [
    "#Creat a numpy array fill with a given num\n",
    "full_arr = np.full((3, 5), 77)\n",
    "print(full_arr)"
   ]
  },
  {
   "cell_type": "markdown",
   "id": "e2b357d8",
   "metadata": {},
   "source": [
    "# Random"
   ]
  },
  {
   "cell_type": "code",
   "execution_count": null,
   "id": "0caf8ee2",
   "metadata": {},
   "outputs": [],
   "source": [
    "#Creat a numpy array fill wil num in a range devide by step\n",
    "lin_arr = np.linspace(0, 60, 6)\n",
    "print(lin_arr)"
   ]
  },
  {
   "cell_type": "code",
   "execution_count": null,
   "id": "a321b209",
   "metadata": {},
   "outputs": [],
   "source": [
    "# #Random\n",
    "# ran_arr = np.random.random([4, 4])\n",
    "# print(ran_arr)\n",
    "# print()\n",
    "\n",
    "#Seed: Make sure that random number is unchange\n",
    "np.random.seed(10)\n",
    "seed_ran_arr = np.random.random((4, 4))\n",
    "print(seed_ran_arr)\n",
    "print()\n",
    "\n",
    "#Normal: Creat a numpy array fill with randowm number in range loc +- scale \n",
    "nor_arr = np.random.normal(0, 1, (3, 3))\n",
    "print(nor_arr)\n",
    "print()\n",
    "#Randint\n",
    "randint_arr = np.random.randint(0, 10, (4, 5))\n",
    "print(randint_arr)\n",
    "print()\n",
    "#Rand: Creat a numpy array with give size, fill with random num between 0 and 1\n",
    "rand_arr = np.random.rand(1, 2)\n",
    "print(rand_arr)"
   ]
  },
  {
   "cell_type": "markdown",
   "id": "3d959392",
   "metadata": {},
   "source": [
    "# Slicing and indexing"
   ]
  },
  {
   "cell_type": "code",
   "execution_count": null,
   "id": "30a91547",
   "metadata": {},
   "outputs": [],
   "source": [
    "#Indexing and slicing\n",
    "\n",
    "#Indexing\n",
    "#One dimension\n",
    "my_x = np.random.randint(0, 20, 6)\n",
    "print(my_x)"
   ]
  },
  {
   "cell_type": "code",
   "execution_count": null,
   "id": "6471ebff",
   "metadata": {
    "scrolled": true
   },
   "outputs": [],
   "source": [
    "print(my_x[0], my_x[-1])"
   ]
  },
  {
   "cell_type": "code",
   "execution_count": null,
   "id": "12b9aead",
   "metadata": {},
   "outputs": [],
   "source": [
    "#Multi dimension\n",
    "#2D\n",
    "np.random.seed(10)\n",
    "my_x2 =  np.random.randint(0, 10, (3, 4))\n",
    "print(my_x2)\n",
    "print(my_x2.ndim)\n",
    "\n"
   ]
  },
  {
   "cell_type": "code",
   "execution_count": null,
   "id": "652e66b6",
   "metadata": {},
   "outputs": [],
   "source": [
    "#3D\n",
    "np.random.seed(10)\n",
    "my_3d = np.random.randint(0, 3, ((3, 3, 3)))\n",
    "print(my_3d)\n",
    "print(my_3d.ndim)\n",
    "\n",
    "print(my_3d.shape)\n",
    "\n",
    "my_3d_tem = np.array([[[1, 1, 0], [0, 1, 0], [1, 1, 0]],\n",
    "                    [[1, 1, 2], [0, 1, 0], [2, 0, 2]],\n",
    "                    [[0, 0, 0], [2, 0, 2], [2, 1, 0]]])\n",
    "print(my_3d_tem)"
   ]
  },
  {
   "cell_type": "code",
   "execution_count": null,
   "id": "26c26e6e",
   "metadata": {},
   "outputs": [],
   "source": [
    "print(my_x2[0, 0])\n",
    "my_x2[1, 0] = 8888\n",
    "print(my_x2)"
   ]
  },
  {
   "cell_type": "code",
   "execution_count": null,
   "id": "837216c4",
   "metadata": {},
   "outputs": [],
   "source": [
    "#Slicing\n",
    "#One dimension\n",
    "print(my_x)\n",
    "print(my_x[0:3])\n",
    "print(my_x[::2]) #Slicing whole array with step"
   ]
  },
  {
   "cell_type": "code",
   "execution_count": null,
   "id": "96f1b112",
   "metadata": {
    "scrolled": true
   },
   "outputs": [],
   "source": [
    "#Multi dimention\n",
    "#2D\n",
    "print(my_x2)\n",
    "print()\n",
    "print(my_x2[:2, :3])  #Slicing 2 first row and 3 first column\n",
    "print()\n",
    "print(my_x2[:, :2]) #Slicing whole row and 2 first column"
   ]
  },
  {
   "cell_type": "code",
   "execution_count": null,
   "id": "fcf8d4fa",
   "metadata": {},
   "outputs": [],
   "source": [
    "#3D\n",
    "my_3d_tem = np.array([[[1, 1, 0, 7], [0, 1, 0, 7], [1, 1, 0, 7], [0, 0, 0, 7]],\n",
    "                    [[1, 1, 2, 7], [0, 1, 0, 7], [2, 0, 2, 7], [0, 0, 0, 7]],\n",
    "                    [[0, 0, 0, 7], [2, 0, 2, 7], [2, 1, 0, 7], [0, 0, 0, 7]]])\n",
    "\n",
    "print(my_3d_tem)\n",
    "print(my_3d_tem.shape)\n",
    "print()\n",
    "a = my_3d_tem[1, 2, -2:]\n",
    "print(a)"
   ]
  },
  {
   "cell_type": "code",
   "execution_count": 3,
   "id": "6c0d4430",
   "metadata": {
    "scrolled": true
   },
   "outputs": [
    {
     "name": "stdout",
     "output_type": "stream",
     "text": [
      "uint8\n",
      "uint8\n",
      "[[ 82  80  81 ... 101 101 104]\n",
      " [ 81  79  80 ... 100 100 102]\n",
      " [ 79  80  80 ...  99 100 101]\n",
      " ...\n",
      " [ 41  37  37 ... 183 186 189]\n",
      " [ 39  36  38 ... 185 189 192]\n",
      " [ 36  33  37 ... 186 190 193]]\n",
      "(5472, 3648)\n",
      "2\n",
      "\n",
      "[ 82  80  81 ... 186 190 193]\n",
      "uint8\n",
      "\n",
      "[ 82  80  81 ... 186 190 193]\n",
      "_____\n",
      "[[ 82  80  81 ... 101 101 104]\n",
      " [ 81  79  80 ... 100 100 102]\n",
      " [ 79  80  80 ...  99 100 101]\n",
      " ...\n",
      " [ 41  37  37 ... 183 186 189]\n",
      " [ 39  36  38 ... 185 189 192]\n",
      " [ 36  33  37 ... 186 190 193]]\n"
     ]
    },
    {
     "data": {
      "text/plain": [
       "-1"
      ]
     },
     "execution_count": 3,
     "metadata": {},
     "output_type": "execute_result"
    }
   ],
   "source": [
    "#Reshaping array\n",
    "# grid_arr = np.arange(1, 10)\n",
    "# print(grid_arr)\n",
    "# print(grid_arr.shape)\n",
    "# print(grid_arr.reshape((3, 3)))\n",
    "\n",
    "# my_2d = np.array([[1, 2, 3, 4],\n",
    "#                   [5, 6, 7, 8],\n",
    "#                   [9, 10, 11, 12]])\n",
    "# print(my_2d)\n",
    "# print(my_2d.shape)\n",
    "# print(my_2d.ndim)\n",
    "# print()\n",
    "\n",
    "# my_test_1d = my_2d.flatten()\n",
    "# print(my_test_1d)\n",
    "\n",
    "# my_test_2d_back = np.reshape(my_test_1d, (3, 4))\n",
    "# print(my_test_2d_back)\n",
    "\n",
    "img = cv.imread('IMG_0669.JPG')\n",
    "\n",
    "img = img.astype(np.uint8)\n",
    "print(img.dtype)\n",
    "# cv.imshow('Pic', img)\n",
    "# cv.waitKey(0)\n",
    "\n",
    "b, g, r = cv.split(img)\n",
    "print(b.dtype)\n",
    "# cv.imshow('Pic', b)\n",
    "# cv.waitKey(0)\n",
    "\n",
    "print(b)\n",
    "print(b.shape)\n",
    "print(b.ndim)\n",
    "print()\n",
    "b_1d = b.flatten()\n",
    "print(b_1d)\n",
    "print(b_1d.dtype)\n",
    "print()\n",
    "np.savetxt('test.csv', b_1d, fmt = '%s')\n",
    "\n",
    "b_1d_back = np.loadtxt('test.csv', dtype = np.uint8)\n",
    "print(b_1d_back)\n",
    "print('_____')\n",
    "b_back = np.reshape(b_1d_back, b.shape)\n",
    "print(b_back)\n",
    "cv.imshow('Pic', b_back)\n",
    "cv.waitKey(0)"
   ]
  },
  {
   "cell_type": "code",
   "execution_count": null,
   "id": "df2857a8",
   "metadata": {},
   "outputs": [],
   "source": [
    "#Transpose\n",
    "#Swith between row and column\n",
    "tran_arr = np.array([[1, 2, 3], [4, 5, 6], [7, 8, 9]])\n",
    "print(tran_arr)\n",
    "\n",
    "print(tran_arr.T)"
   ]
  },
  {
   "cell_type": "code",
   "execution_count": null,
   "id": "88f868a8",
   "metadata": {},
   "outputs": [],
   "source": [
    "#Concatenation (nối) and spliting(tách)\n",
    "\n",
    "#Concatenation\n",
    "conca_x_arr = np.array([1, 2, 3])\n",
    "conca_y_arr = np.array([5, 6, 7, 8])\n",
    "np.concatenate((conca_x_arr, conca_y_arr))"
   ]
  },
  {
   "cell_type": "code",
   "execution_count": null,
   "id": "864408fb",
   "metadata": {
    "scrolled": true
   },
   "outputs": [],
   "source": [
    "grid_1 = np.array([[1, 2, 3], [4, 5, 6]])\n",
    "grid_2 = np.array([[7, 8, 9], [10, 11, 12]])\n",
    "by_column = np.concatenate((grid_1, grid_2))\n",
    "print(by_column)\n",
    "print()\n",
    "by_row = np.concatenate((grid_1, grid_2), axis = 1)\n",
    "print(by_row)"
   ]
  },
  {
   "cell_type": "code",
   "execution_count": null,
   "id": "121c1c42",
   "metadata": {},
   "outputs": [],
   "source": [
    "#vstack: put 2 array toghther by column (row unchange)\n",
    "v_stack = np.vstack((conca_x_arr, grid_1))\n",
    "print(v_stack)\n",
    "print()\n",
    "#hstack: put 2 array together by row (column unchange)\n",
    "h_stack = np.hstack((grid_2, grid_1))\n",
    "print(h_stack)"
   ]
  },
  {
   "cell_type": "code",
   "execution_count": null,
   "id": "53faaa44",
   "metadata": {},
   "outputs": [],
   "source": [
    "#Slipting\n",
    "slip_x = np.array([1, 2, 3, 4, 5, 6, 7, 8])\n",
    "np.split(slip_x, [3, 4])"
   ]
  },
  {
   "cell_type": "code",
   "execution_count": null,
   "id": "f61b67ab",
   "metadata": {},
   "outputs": [],
   "source": [
    "#Broadcasing\n",
    "#Rules: Broadcasing is allow if:\n",
    "#Small array size = 1\n",
    "#Small array's column = large array's column and row = 1\n",
    "#Small array's row = large array's row and column = 1\n",
    "#(a, 1) array and (1, b) array. Resul is new array (a, b)\n",
    "a = np.array([[1, 2, 3], [3, 2, 1], [1, 2, 3], [3, 2, 1]])\n",
    "print(a)"
   ]
  },
  {
   "cell_type": "code",
   "execution_count": null,
   "id": "0f703fc1",
   "metadata": {},
   "outputs": [],
   "source": [
    "#1 Rule\n",
    "print(a * 10)"
   ]
  },
  {
   "cell_type": "code",
   "execution_count": null,
   "id": "5171fcc4",
   "metadata": {},
   "outputs": [],
   "source": [
    "#2 Rule\n",
    "b = np.array([2, 3, 4])\n",
    "print(b.shape)\n",
    "print(b * a)"
   ]
  },
  {
   "cell_type": "code",
   "execution_count": null,
   "id": "e603e89d",
   "metadata": {},
   "outputs": [],
   "source": [
    "#3 Rule\n",
    "c = np.array([[4], [3], [3], [1]])\n",
    "print(c.shape)\n",
    "print(a * c)"
   ]
  },
  {
   "cell_type": "code",
   "execution_count": null,
   "id": "1146494a",
   "metadata": {},
   "outputs": [],
   "source": [
    "#4 Rule\n",
    "a_row = np.array([2, 4, 6, 8])\n",
    "a_col = np.array([[1], [3], [5]])\n",
    "print(f\"a_row = {a_row.shape}\")\n",
    "print(f\"a_col = {a_col.shape}\")\n",
    "print(a_row * a_col)"
   ]
  },
  {
   "cell_type": "code",
   "execution_count": null,
   "id": "ea31dd35",
   "metadata": {},
   "outputs": [],
   "source": [
    "#Manipulating & comparing array\n",
    "#Aggregation\n",
    "ll = np.array([[1, 2, 3, 4], [4, 3, 2, 1]])\n",
    "print(ll)"
   ]
  },
  {
   "cell_type": "code",
   "execution_count": null,
   "id": "cf6adf78",
   "metadata": {},
   "outputs": [],
   "source": [
    "sum(ll)  #Build-in sum func"
   ]
  },
  {
   "cell_type": "code",
   "execution_count": null,
   "id": "7ae9ba01",
   "metadata": {},
   "outputs": [],
   "source": [
    "np.sum(ll)  #numpy sum func"
   ]
  },
  {
   "cell_type": "code",
   "execution_count": null,
   "id": "c191e268",
   "metadata": {},
   "outputs": [],
   "source": [
    "np.max(ll)"
   ]
  },
  {
   "cell_type": "code",
   "execution_count": null,
   "id": "c71c129a",
   "metadata": {},
   "outputs": [],
   "source": [
    "np.min(ll)"
   ]
  },
  {
   "cell_type": "code",
   "execution_count": null,
   "id": "cee6875d",
   "metadata": {},
   "outputs": [],
   "source": [
    "np.mean(ll)  #Give average value"
   ]
  },
  {
   "cell_type": "code",
   "execution_count": null,
   "id": "44a06c1a",
   "metadata": {},
   "outputs": [],
   "source": [
    "np.std(ll)  #Độ lệch chuẩn (Độ phân toán dữ liệu), bằng căn bặc 2 của phương sai"
   ]
  },
  {
   "cell_type": "code",
   "execution_count": null,
   "id": "32ffdf69",
   "metadata": {},
   "outputs": [],
   "source": [
    "np.var(ll)  #Phương sai (trung bình cộng của bình phương hiệu của dữ liệu thật và giá trị trung bình)"
   ]
  },
  {
   "cell_type": "code",
   "execution_count": null,
   "id": "1385479b",
   "metadata": {},
   "outputs": [],
   "source": [
    "#Sorting array\n",
    "new_x = np.array([7, 3414, 134, 687, 435354, 633, 72])\n",
    "np.sort(new_x)"
   ]
  },
  {
   "cell_type": "code",
   "execution_count": null,
   "id": "ac2de477",
   "metadata": {},
   "outputs": [],
   "source": [
    "np.argsort(new_x)  #Sort and return index"
   ]
  },
  {
   "cell_type": "code",
   "execution_count": null,
   "id": "b20acb66",
   "metadata": {},
   "outputs": [],
   "source": [
    "#Sort row and colomn\n",
    "np.random.seed(42)\n",
    "matrix_a = np.random.randint(0, 10, size = (4, 6))\n",
    "print(matrix_a)\n",
    "print(matrix_a.shape[0])"
   ]
  },
  {
   "cell_type": "code",
   "execution_count": null,
   "id": "bc575417",
   "metadata": {},
   "outputs": [],
   "source": [
    "np.sort(matrix_a, axis = 0)  #Sort by column"
   ]
  },
  {
   "cell_type": "code",
   "execution_count": null,
   "id": "9c3faad2",
   "metadata": {},
   "outputs": [],
   "source": [
    "np.sort(matrix_a, axis = 1)  #Sort by row"
   ]
  },
  {
   "cell_type": "code",
   "execution_count": null,
   "id": "4f6334e2",
   "metadata": {},
   "outputs": [],
   "source": [
    "#Linear Algebra - Đại số tuyến tính/Nhân ma trận\n",
    "#Số cột của ma trận một phải bằng số hàng của ma trận hai\n",
    "#(a, x) dot (y, a) is ok\n",
    "#Ma trận mới có số hàng của ma trận một, cột của ma trận hai\n",
    "# A = np.array([[1, 2, 3],\n",
    "#              [4, 5, 6],\n",
    "#              [7, 8, 9]])\n",
    "B = np.array([[6, 5, 10, 15, 20],\n",
    "             [4, 3, 6, 7, 8],\n",
    "             [2, 1, 6, 8, 7]])\n",
    "# print(A.shape)\n",
    "print(B.shape)\n",
    "# print(A.dot(B))\n",
    "# print((A.dot(B).shape))\n",
    "C = np.array([2, 3, 4, 5, 6])\n",
    "print(C.shape)\n",
    "print(B.dot(C))\n",
    "print((B.dot(C).shape))"
   ]
  },
  {
   "cell_type": "code",
   "execution_count": null,
   "id": "1a311f24",
   "metadata": {},
   "outputs": [],
   "source": [
    "#Dot product\n",
    "h = np.array([1, 2, 3])\n",
    "print(h.shape)\n",
    "print(h.reshape(1, 3))"
   ]
  }
 ],
 "metadata": {
  "kernelspec": {
   "display_name": "Python 3 (ipykernel)",
   "language": "python",
   "name": "python3"
  },
  "language_info": {
   "codemirror_mode": {
    "name": "ipython",
    "version": 3
   },
   "file_extension": ".py",
   "mimetype": "text/x-python",
   "name": "python",
   "nbconvert_exporter": "python",
   "pygments_lexer": "ipython3",
   "version": "3.9.6"
  }
 },
 "nbformat": 4,
 "nbformat_minor": 5
}
