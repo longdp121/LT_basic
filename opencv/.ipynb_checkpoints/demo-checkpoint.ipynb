{
 "cells": [
  {
   "cell_type": "code",
   "execution_count": 2,
   "id": "5469b076",
   "metadata": {},
   "outputs": [],
   "source": [
    "import cv2 as cv\n",
    "import numpy as np"
   ]
  },
  {
   "cell_type": "markdown",
   "id": "d48bc8af",
   "metadata": {},
   "source": [
    "# Read image"
   ]
  },
  {
   "cell_type": "code",
   "execution_count": 3,
   "id": "ff19f017",
   "metadata": {},
   "outputs": [],
   "source": [
    "img = cv.imread('hoa_con_small.jpg')"
   ]
  },
  {
   "cell_type": "code",
   "execution_count": 4,
   "id": "895e0685",
   "metadata": {},
   "outputs": [],
   "source": [
    "#Read rgular image\n",
    "\n",
    "cv.imshow('Img', img)\n",
    "cv.waitKey(0);"
   ]
  },
  {
   "cell_type": "code",
   "execution_count": 5,
   "id": "12d20171",
   "metadata": {},
   "outputs": [],
   "source": [
    "#Gray image\n",
    "img_gray = cv.cvtColor(img, cv.COLOR_BGR2GRAY)\n",
    "\n",
    "cv.imshow('Gray img', img_gray)\n",
    "cv.waitKey(0);"
   ]
  },
  {
   "cell_type": "code",
   "execution_count": 6,
   "id": "a0decc4a",
   "metadata": {},
   "outputs": [],
   "source": [
    "#Blur image\n",
    "img_blur = cv.GaussianBlur(img, (11, 11), 0)  #blur level enter must be > 0 and odd\n",
    "\n",
    "cv.imshow('Img blur', img_blur)\n",
    "cv.waitKey(0);"
   ]
  },
  {
   "cell_type": "code",
   "execution_count": 7,
   "id": "366a5ab6",
   "metadata": {},
   "outputs": [],
   "source": [
    "#Canny image\n",
    "#Finds edges in an image\n",
    "img_canny =cv.Canny(img, 100, 100)\n",
    "\n",
    "cv.imshow('Img canny', img_canny)\n",
    "cv.waitKey(0);"
   ]
  },
  {
   "cell_type": "code",
   "execution_count": 18,
   "id": "5cd2191d",
   "metadata": {},
   "outputs": [],
   "source": [
    "#Dialation\n",
    "#Dilates an image, make pixel/edge thicker\n",
    "#Size of pixel give by a ones matrix\n",
    "kernel = np.ones((3, 3), np.uint8)\n",
    "img_dialation = cv.dilate(img_canny,\n",
    "                          kernel,\n",
    "                          iterations = 1)\n",
    "\n",
    "cv.imshow('Img dialation', img_dialation)\n",
    "cv.waitKey(0);"
   ]
  },
  {
   "cell_type": "code",
   "execution_count": 22,
   "id": "e6720713",
   "metadata": {},
   "outputs": [],
   "source": [
    "#Eroded\n",
    "#Erodes an image, make pixel.edge look thin and thiner\n",
    "img_eroded = cv.erode(img_dialation,\n",
    "                     kernel,\n",
    "                     iterations = 4)\n",
    "\n",
    "cv.imshow('Img eroded', img_eroded)\n",
    "cv.waitKey(0);"
   ]
  },
  {
   "cell_type": "code",
   "execution_count": 38,
   "id": "23ff8208",
   "metadata": {},
   "outputs": [],
   "source": [
    "#Resize image\n",
    "\n",
    "img_resize = cv.resize(img, (200, 100))  #Regular resize. W first then H\n",
    "\n",
    "def keep_ratio(img, new_h = None, new_w = None):\n",
    "    try:\n",
    "        if new_h == None:\n",
    "            new_h = (new_w * img.shape[0]) / img.shape[1]\n",
    "            return (int(new_w), int(new_h))\n",
    "        elif new_w == None:\n",
    "            new_w = (new_h * img.shape[1]) / img.shape[0]\n",
    "            return (int(new_w), int(new_h))\n",
    "    except:\n",
    "        raise \"Only new_w or new_h give\"\n",
    "    \n",
    "#img_resize_with_ration = cv.resize(img, keep_ratio(img, new_w = 199))\n",
    "test_img = cv.imread('despecialble-me-2.jpg')  \n",
    "test_img_new = cv.resize(test_img, keep_ratio(test_img, new_h = 40))\n",
    "cv.imshow('Test img', test_img_new)\n",
    "#cv.imshow('Img resize', img_resize)\n",
    "#cv.imshow('Img keep ration', img_resize_with_ration)\n",
    "cv.waitKey(0);"
   ]
  },
  {
   "cell_type": "code",
   "execution_count": null,
   "id": "ecdf26af",
   "metadata": {},
   "outputs": [],
   "source": []
  },
  {
   "cell_type": "code",
   "execution_count": null,
   "id": "a5e4b7ab",
   "metadata": {},
   "outputs": [],
   "source": []
  }
 ],
 "metadata": {
  "kernelspec": {
   "display_name": "Python 3 (ipykernel)",
   "language": "python",
   "name": "python3"
  },
  "language_info": {
   "codemirror_mode": {
    "name": "ipython",
    "version": 3
   },
   "file_extension": ".py",
   "mimetype": "text/x-python",
   "name": "python",
   "nbconvert_exporter": "python",
   "pygments_lexer": "ipython3",
   "version": "3.9.6"
  }
 },
 "nbformat": 4,
 "nbformat_minor": 5
}
